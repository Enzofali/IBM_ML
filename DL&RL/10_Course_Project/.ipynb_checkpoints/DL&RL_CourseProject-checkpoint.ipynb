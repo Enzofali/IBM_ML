{
 "cells": [
  {
   "cell_type": "markdown",
   "metadata": {},
   "source": [
    "# Course Project: Deep Learning and Reinforcement Learning\n",
    "\n",
    "### Objective:\n",
    "\n",
    "The objective of this report is to analyze the [MNIST dataset](https://en.wikipedia.org/wiki/MNIST_database), which contains 70,000 handwritten black-and-white images, which are traditionally split into 60k training images and 10k validation images. The study will be carried out through 3 Convolutional Neural Networks models. The objective of this project will be to compare the results obtained by the 3 models to validate the model of greater convenience.\n",
    "\n",
    "### Description of the Data Set and its attributes\n",
    "\n",
    "The MNIST database (Modified National Institute of Standards and Technology database) is a large database of handwritten digits that is commonly used for training various image processing systems.\n",
    "\n",
    "\n"
   ]
  },
  {
   "cell_type": "markdown",
   "metadata": {},
   "source": [
    "# Exploratory Data Analisis\n",
    "### Initial plan for data exploration and actions for data cleaning and feature engineering.\n",
    "\n",
    "The data is already correct concerning Data Cleaning. However, we will do the corresponding scaling transformations to carry out the different models of the adequate tide. Then we will preliminarily reduce the dimensionality of the features, in order to compare the execution and training times of the algorithms by analyzing the accuracy obtained for the study cases."
   ]
  },
  {
   "cell_type": "markdown",
   "metadata": {},
   "source": [
    "#### Data Cleaning and Feature Engineering"
   ]
  },
  {
   "cell_type": "code",
   "execution_count": 76,
   "metadata": {},
   "outputs": [],
   "source": [
    "import keras\n",
    "from keras.datasets import mnist\n",
    "from keras.datasets import cifar10\n",
    "from keras.preprocessing.image import ImageDataGenerator\n",
    "from keras.models import Sequential\n",
    "from keras.optimizers import Adam\n",
    "from keras.layers import Dense, Dropout, Activation, Flatten\n",
    "from keras.layers import Conv2D, MaxPooling2D\n",
    "from sklearn.decomposition import PCA\n",
    "from sklearn.metrics import accuracy_score\n",
    "import numpy as np\n",
    "import matplotlib.pyplot as plt\n",
    "import random"
   ]
  },
  {
   "cell_type": "markdown",
   "metadata": {},
   "source": [
    "Analyzing the data set."
   ]
  },
  {
   "cell_type": "code",
   "execution_count": 77,
   "metadata": {},
   "outputs": [],
   "source": [
    "(x_train, y_train), (x_test, y_test) = mnist.load_data();"
   ]
  },
  {
   "cell_type": "code",
   "execution_count": 78,
   "metadata": {},
   "outputs": [
    {
     "name": "stdout",
     "output_type": "stream",
     "text": [
      "(60000, 28, 28) (60000,) (10000, 28, 28) (10000,)\n"
     ]
    }
   ],
   "source": [
    "print(x_train.shape, y_train.shape, x_test.shape, y_test.shape)"
   ]
  },
  {
   "cell_type": "code",
   "execution_count": 79,
   "metadata": {},
   "outputs": [
    {
     "name": "stdout",
     "output_type": "stream",
     "text": [
      "4\n"
     ]
    },
    {
     "data": {
      "text/plain": [
       "<matplotlib.image.AxesImage at 0x1688ff2b850>"
      ]
     },
     "execution_count": 79,
     "metadata": {},
     "output_type": "execute_result"
    },
    {
     "data": {
      "image/png": "[encoded data removed]",
      "text/plain": [
       "<Figure size 432x288 with 1 Axes>"
      ]
     },
     "metadata": {
      "needs_background": "light"
     },
     "output_type": "display_data"
    }
   ],
   "source": [
    "num = random.randint(1, len(x_train))\n",
    "print(y_train[num])\n",
    "plt.imshow(x_train[num])"
   ]
  },
  {
   "cell_type": "markdown",
   "metadata": {},
   "source": [
    "# PCA\n",
    " \n",
    "We will perform a dimensionality reduction of the image using the Principal Component Analisis.\n"
   ]
  },
  {
   "cell_type": "markdown",
   "metadata": {},
   "source": [
    "First, lets flatten the pixels to a 1d-array."
   ]
  },
  {
   "cell_type": "code",
   "execution_count": 80,
   "metadata": {},
   "outputs": [
    {
     "name": "stdout",
     "output_type": "stream",
     "text": [
      "(60000, 784) (10000, 784)\n"
     ]
    }
   ],
   "source": [
    "x_train_flat = x_train.reshape((len(x_train), np.prod(x_train.shape[1:])))\n",
    "x_test_flat = x_test.reshape((len(x_test), np.prod(x_test.shape[1:])))\n",
    "print(x_train_flat.shape, x_test_flat.shape)"
   ]
  },
  {
   "cell_type": "markdown",
   "metadata": {},
   "source": [
    "We will scale the pixels of the images so that the values ​​are between 0 and 1. This standardization is necessary to carry out the PCA method."
   ]
  },
  {
   "cell_type": "code",
   "execution_count": 81,
   "metadata": {},
   "outputs": [],
   "source": [
    "from sklearn.preprocessing import MinMaxScaler\n",
    "MMS = MinMaxScaler().fit(x_train_flat)\n",
    "x_train_flat = MMS.transform(x_train_flat)\n",
    "MMS = MinMaxScaler().fit(x_test_flat)\n",
    "x_test_flat = MMS.transform(x_test_flat)"
   ]
  },
  {
   "cell_type": "code",
   "execution_count": 82,
   "metadata": {},
   "outputs": [],
   "source": [
    "def data_pca(x_data, n_components):\n",
    "    pca = PCA(n_components=n_components)\n",
    "    fit_pca = pca.fit(x_data)\n",
    "    print(\"Variance explained with {0} components:\".format(n_components), round(sum(fit_pca.explained_variance_ratio_),4)) \n",
    "\n",
    "    return fit_pca, fit_pca.transform(x_data)"
   ]
  },
  {
   "cell_type": "markdown",
   "metadata": {},
   "source": [
    "The variance explained for all the component must be equal to 1."
   ]
  },
  {
   "cell_type": "code",
   "execution_count": 83,
   "metadata": {},
   "outputs": [
    {
     "name": "stdout",
     "output_type": "stream",
     "text": [
      "Variance explained with 784 components: 1.0\n"
     ]
    }
   ],
   "source": [
    "pca_full, mnist_data_full = data_pca(x_train_flat, 784)"
   ]
  },
  {
   "cell_type": "code",
   "execution_count": 84,
   "metadata": {},
   "outputs": [
    {
     "data": {
      "image/png": "[encoded data removed]",
      "text/plain": [
       "<Figure size 432x288 with 1 Axes>"
      ]
     },
     "metadata": {
      "needs_background": "light"
     },
     "output_type": "display_data"
    }
   ],
   "source": [
    "plt.plot(np.cumsum(pca_full.explained_variance_ratio_))\n",
    "plt.title(\"Proportion of PCA variance\\nexplained by number of components\")\n",
    "plt.xlabel(\"Number of components\")\n",
    "plt.ylabel(\"Proportion of variance explained\");"
   ]
  },
  {
   "cell_type": "code",
   "execution_count": 85,
   "metadata": {},
   "outputs": [
    {
     "name": "stdout",
     "output_type": "stream",
     "text": [
      "Variance explained with 100 components: 0.9142\n",
      "Variance explained with 150 components: 0.948\n",
      "Variance explained with 200 components: 0.966\n",
      "Variance explained with 250 components: 0.9777\n",
      "Variance explained with 300 components: 0.986\n",
      "Variance explained with 350 components: 0.9918\n"
     ]
    }
   ],
   "source": [
    "for i in range (100, 400, 50):\n",
    "    data_pca(x_train_flat, i)"
   ]
  },
  {
   "cell_type": "markdown",
   "metadata": {},
   "source": [
    "We are going to reduce the dimensionality to 18x18 pixels = 324. Given that, for a number of components of 350, 99% of the variance is preserved. At the same time, the dimensionality is reduced by 41%, considering that the original dimension is 28x28 pixels = 784."
   ]
  },
  {
   "cell_type": "code",
   "execution_count": 86,
   "metadata": {},
   "outputs": [
    {
     "name": "stdout",
     "output_type": "stream",
     "text": [
      "Variance explained with 324 components: 0.989\n"
     ]
    }
   ],
   "source": [
    "# 18*18 = 324pixels \n",
    "dim = 324\n",
    "pca_324, mnist_data_324 = data_pca(x_train_flat, dim)"
   ]
  },
  {
   "cell_type": "code",
   "execution_count": 87,
   "metadata": {},
   "outputs": [
    {
     "name": "stdout",
     "output_type": "stream",
     "text": [
      "(10000, 324) (10000, 784)\n"
     ]
    }
   ],
   "source": [
    "x_test_flat_324 = pca_324.transform(x_test_flat)\n",
    "x_test_predict_324 = pca_324.inverse_transform(x_test_flat_324)\n",
    "print(x_test_flat_324.shape, x_test_predict_324.shape)"
   ]
  },
  {
   "cell_type": "markdown",
   "metadata": {},
   "source": [
    "A low mean square error is obtained."
   ]
  },
  {
   "cell_type": "code",
   "execution_count": 88,
   "metadata": {},
   "outputs": [
    {
     "data": {
      "text/plain": [
       "7.33"
      ]
     },
     "execution_count": 88,
     "metadata": {},
     "output_type": "execute_result"
    }
   ],
   "source": [
    "def mse_reconstruction(true, reconstructed):\n",
    "    return round(np.sum(np.power(true - reconstructed, 2) / true.shape[1]), 2)\n",
    "mse_reconstruction(x_test_flat, x_test_predict_324)"
   ]
  },
  {
   "cell_type": "markdown",
   "metadata": {},
   "source": [
    "Let's reshape x_test and x_train to the square format and graphically see the result of the dimensionality reduction."
   ]
  },
  {
   "cell_type": "code",
   "execution_count": 89,
   "metadata": {},
   "outputs": [
    {
     "data": {
      "text/plain": [
       "(10000, 18, 18, 1)"
      ]
     },
     "execution_count": 89,
     "metadata": {},
     "output_type": "execute_result"
    }
   ],
   "source": [
    "x_test_324 = [[] for x in range(len(x_test))]\n",
    "for i in range(len(x_test)):\n",
    "    x_test_324[i] = x_test_flat_324[i].reshape((int(np.sqrt(dim)), int(np.sqrt(dim)),1))\n",
    "\n",
    "x_test_324 = np.array(x_test_324)\n",
    "x_test_324.shape"
   ]
  },
  {
   "cell_type": "code",
   "execution_count": 91,
   "metadata": {},
   "outputs": [
    {
     "data": {
      "text/plain": [
       "(60000, 18, 18, 1)"
      ]
     },
     "execution_count": 91,
     "metadata": {},
     "output_type": "execute_result"
    }
   ],
   "source": [
    "x_train_324 = [[] for x in range(len(x_train))]\n",
    "for i in range(len(x_train)):\n",
    "    x_train_324[i] = mnist_data_324[i].reshape((int(np.sqrt(dim)), int(np.sqrt(dim)),1))\n",
    "\n",
    "x_train_324 = np.array(x_train_324)\n",
    "x_train_324.shape"
   ]
  },
  {
   "cell_type": "code",
   "execution_count": 92,
   "metadata": {},
   "outputs": [
    {
     "name": "stdout",
     "output_type": "stream",
     "text": [
      "Number: 2\n"
     ]
    },
    {
     "data": {
      "text/plain": [
       "<matplotlib.image.AxesImage at 0x1688ff63400>"
      ]
     },
     "execution_count": 92,
     "metadata": {},
     "output_type": "execute_result"
    },
    {
     "data": {
      "image/png": "[encoded data removed]",
      "text/plain": [
       "<Figure size 864x432 with 2 Axes>"
      ]
     },
     "metadata": {
      "needs_background": "light"
     },
     "output_type": "display_data"
    }
   ],
   "source": [
    "num = random.randint(1, len(x_train))\n",
    "print('Number:', y_train[num])\n",
    "\n",
    "fig = plt.figure(figsize=(12, 6))\n",
    "ax = fig.add_subplot(1, 2, 1)\n",
    "ax.set_title('Dimensionality Reduction (18*18), 99% of Explained Variance')\n",
    "ax.imshow(x_train_324[num])\n",
    "\n",
    "ax = fig.add_subplot(1, 2, 2)\n",
    "ax.set_title('Original Image (28*28)')\n",
    "ax.imshow(x_train[num])"
   ]
  },
  {
   "cell_type": "markdown",
   "metadata": {},
   "source": [
    "# Convolutional Neural Network Models (CNN) \n",
    "\n",
    "Now we are going to analyze the following CNN models.\n",
    "\n",
    "* Model 1: CNN with dimensonality reduction\n",
    "* Model 2: CNN with dimensonality reduction and  a deeper network\n",
    "* Model 3: CNN without dimensonality reduction"
   ]
  },
  {
   "cell_type": "markdown",
   "metadata": {},
   "source": [
    "## Model 1"
   ]
  },
  {
   "cell_type": "markdown",
   "metadata": {},
   "source": [
    "Lets one hot encode the categorcal variables."
   ]
  },
  {
   "cell_type": "code",
   "execution_count": 93,
   "metadata": {},
   "outputs": [
    {
     "data": {
      "text/plain": [
       "array([0., 0., 1., 0., 0., 0., 0., 0., 0., 0.], dtype=float32)"
      ]
     },
     "execution_count": 93,
     "metadata": {},
     "output_type": "execute_result"
    }
   ],
   "source": [
    "num_classes = 10\n",
    "\n",
    "y_train = keras.utils.to_categorical(y_train, num_classes)\n",
    "y_test = keras.utils.to_categorical(y_test, num_classes)\n",
    "y_train[num]"
   ]
  },
  {
   "cell_type": "markdown",
   "metadata": {},
   "source": [
    "Let's build a CNN using Keras Sequential capabilities. "
   ]
  },
  {
   "cell_type": "code",
   "execution_count": 94,
   "metadata": {},
   "outputs": [
    {
     "name": "stdout",
     "output_type": "stream",
     "text": [
      "Model: \"sequential_3\"\n",
      "_________________________________________________________________\n",
      " Layer (type)                Output Shape              Param #   \n",
      "=================================================================\n",
      " conv2d_6 (Conv2D)           (None, 9, 9, 32)          544       \n",
      "                                                                 \n",
      " activation_12 (Activation)  (None, 9, 9, 32)          0         \n",
      "                                                                 \n",
      " conv2d_7 (Conv2D)           (None, 3, 3, 32)          16416     \n",
      "                                                                 \n",
      " activation_13 (Activation)  (None, 3, 3, 32)          0         \n",
      "                                                                 \n",
      " flatten_3 (Flatten)         (None, 288)               0         \n",
      "                                                                 \n",
      " dense_10 (Dense)            (None, 288)               83232     \n",
      "                                                                 \n",
      " dense_11 (Dense)            (None, 324)               93636     \n",
      "                                                                 \n",
      " activation_14 (Activation)  (None, 324)               0         \n",
      "                                                                 \n",
      " dropout_3 (Dropout)         (None, 324)               0         \n",
      "                                                                 \n",
      " dense_12 (Dense)            (None, 10)                3250      \n",
      "                                                                 \n",
      " activation_15 (Activation)  (None, 10)                0         \n",
      "                                                                 \n",
      "=================================================================\n",
      "Total params: 197,078\n",
      "Trainable params: 197,078\n",
      "Non-trainable params: 0\n",
      "_________________________________________________________________\n"
     ]
    }
   ],
   "source": [
    "model_1 = Sequential()\n",
    "\n",
    "## 4*4 convolution with 2*2 stride and 32 filters\n",
    "model_1.add(Conv2D(32, (4, 4), strides = (2,2), padding='same', input_shape=x_train_324.shape[1:]))\n",
    "model_1.add(Activation('relu'))\n",
    "\n",
    "## 4*4 convolution with 2*2 stride and 32 filters\n",
    "model_1.add(Conv2D(32, (4, 4), strides = (2,2)))\n",
    "model_1.add(Activation('relu'))\n",
    "\n",
    "model_1.add(Flatten())\n",
    "\n",
    "## 2 fully conected layers 288 to 342 and 342 to 10\n",
    "model_1.add(Dense(288))\n",
    "model_1.add(Dense(324))\n",
    "model_1.add(Activation('relu'))\n",
    "model_1.add(Dropout(0.5))\n",
    "model_1.add(Dense(num_classes))\n",
    "model_1.add(Activation('softmax'))\n",
    "\n",
    "model_1.summary()"
   ]
  },
  {
   "cell_type": "code",
   "execution_count": 95,
   "metadata": {},
   "outputs": [
    {
     "name": "stdout",
     "output_type": "stream",
     "text": [
      "Epoch 1/10\n"
     ]
    },
    {
     "name": "stderr",
     "output_type": "stream",
     "text": [
      "c:\\Users\\enzof\\Desktop\\ML_IBM\\5_Deep_Learning_and_Reinforcement_Learning\\env\\lib\\site-packages\\keras\\optimizers\\optimizer_v2\\adam.py:110: UserWarning: The `lr` argument is deprecated, use `learning_rate` instead.\n",
      "  super(Adam, self).__init__(name, **kwargs)\n"
     ]
    },
    {
     "name": "stdout",
     "output_type": "stream",
     "text": [
      "1875/1875 [==============================] - 12s 6ms/step - loss: 0.3904 - accuracy: 0.1143 - val_loss: 0.3182 - val_accuracy: 0.4340\n",
      "Epoch 2/10\n",
      "1875/1875 [==============================] - 10s 6ms/step - loss: 0.3072 - accuracy: 0.2772 - val_loss: 0.2635 - val_accuracy: 0.6854\n",
      "Epoch 3/10\n",
      "1875/1875 [==============================] - 10s 6ms/step - loss: 0.2304 - accuracy: 0.5883 - val_loss: 0.1741 - val_accuracy: 0.7867\n",
      "Epoch 4/10\n",
      "1875/1875 [==============================] - 11s 6ms/step - loss: 0.1669 - accuracy: 0.7234 - val_loss: 0.1272 - val_accuracy: 0.8301\n",
      "Epoch 5/10\n",
      "1875/1875 [==============================] - 10s 6ms/step - loss: 0.1352 - accuracy: 0.7783 - val_loss: 0.1055 - val_accuracy: 0.8505\n",
      "Epoch 6/10\n",
      "1875/1875 [==============================] - 10s 6ms/step - loss: 0.1181 - accuracy: 0.8097 - val_loss: 0.0928 - val_accuracy: 0.8675\n",
      "Epoch 7/10\n",
      "1875/1875 [==============================] - 11s 6ms/step - loss: 0.1067 - accuracy: 0.8313 - val_loss: 0.0842 - val_accuracy: 0.8781\n",
      "Epoch 8/10\n",
      "1875/1875 [==============================] - 11s 6ms/step - loss: 0.0979 - accuracy: 0.8468 - val_loss: 0.0778 - val_accuracy: 0.8847\n",
      "Epoch 9/10\n",
      "1875/1875 [==============================] - 10s 6ms/step - loss: 0.0906 - accuracy: 0.8602 - val_loss: 0.0721 - val_accuracy: 0.8935\n",
      "Epoch 10/10\n",
      "1875/1875 [==============================] - 11s 6ms/step - loss: 0.0849 - accuracy: 0.8685 - val_loss: 0.0677 - val_accuracy: 0.8996\n"
     ]
    }
   ],
   "source": [
    "batch_size = 32\n",
    "\n",
    "model_1.compile(loss='binary_crossentropy', \n",
    "                optimizer=Adam(lr=1e-5), \n",
    "                metrics=['accuracy'])\n",
    "                \n",
    "run_hist_1 = model_1.fit(x_train_324, \n",
    "                        y_train, \n",
    "                        batch_size=batch_size, \n",
    "                        epochs=10, \n",
    "                        validation_data=(x_test_324, y_test), \n",
    "                        shuffle=True)"
   ]
  },
  {
   "cell_type": "code",
   "execution_count": 96,
   "metadata": {},
   "outputs": [
    {
     "data": {
      "text/plain": [
       "dict_keys(['loss', 'accuracy', 'val_loss', 'val_accuracy'])"
      ]
     },
     "execution_count": 96,
     "metadata": {},
     "output_type": "execute_result"
    }
   ],
   "source": [
    "run_hist_1.history.keys()"
   ]
  },
  {
   "cell_type": "code",
   "execution_count": 97,
   "metadata": {},
   "outputs": [
    {
     "data": {
      "text/plain": [
       "Text(0.5, 1.0, 'Accuracy over iterations')"
      ]
     },
     "execution_count": 97,
     "metadata": {},
     "output_type": "execute_result"
    },
    {
     "data": {
      "image/png": "[encoded data removed]",
      "text/plain": [
       "<Figure size 864x432 with 2 Axes>"
      ]
     },
     "metadata": {
      "needs_background": "light"
     },
     "output_type": "display_data"
    }
   ],
   "source": [
    "n = len(run_hist_1.history[\"loss\"])\n",
    "\n",
    "fig = plt.figure(figsize=(12, 6))\n",
    "ax = fig.add_subplot(1, 2, 1)\n",
    "ax.plot(range(n), (run_hist_1.history[\"loss\"]),'r', marker='.', label=\"Train Loss\")\n",
    "ax.plot(range(n), (run_hist_1.history[\"val_loss\"]),'b', marker='.', label=\"Validation Loss\")\n",
    "ax.legend()\n",
    "ax.set_title('Loss over iterations')\n",
    "\n",
    "ax = fig.add_subplot(1, 2, 2)\n",
    "ax.plot(range(n), (run_hist_1.history[\"accuracy\"]),'r', marker='.', label=\"Train Acc\")\n",
    "ax.plot(range(n), (run_hist_1.history[\"val_accuracy\"]),'b', marker='.', label=\"Validation Acc\")\n",
    "ax.legend(loc='lower right')\n",
    "ax.set_title('Accuracy over iterations')"
   ]
  },
  {
   "cell_type": "code",
   "execution_count": 98,
   "metadata": {},
   "outputs": [
    {
     "name": "stdout",
     "output_type": "stream",
     "text": [
      "313/313 [==============================] - 1s 2ms/step\n",
      "[7 2 1 0 4 1 4 9 2 9 0 6 9 0 1 5 9 7 3 4 9 6 6 5 4 0 7 4 0 1]\n",
      "[7 2 1 0 4 1 4 9 5 9 0 6 9 0 1 5 9 7 3 4 9 6 6 5 4 0 7 4 0 1]\n"
     ]
    }
   ],
   "source": [
    "predict_y1 = model_1.predict(x_test_324)\n",
    "classes_y1 = np.argmax(predict_y1,axis=1)\n",
    "print(classes_y1[:30])\n",
    "print(np.argmax(y_test[:30], axis=1))"
   ]
  },
  {
   "cell_type": "code",
   "execution_count": 99,
   "metadata": {},
   "outputs": [
    {
     "name": "stdout",
     "output_type": "stream",
     "text": [
      "Number: 7\n"
     ]
    },
    {
     "data": {
      "text/plain": [
       "<matplotlib.image.AxesImage at 0x16892000820>"
      ]
     },
     "execution_count": 99,
     "metadata": {},
     "output_type": "execute_result"
    },
    {
     "data": {
      "image/png": "[encoded data removed]",
      "text/plain": [
       "<Figure size 864x432 with 2 Axes>"
      ]
     },
     "metadata": {
      "needs_background": "light"
     },
     "output_type": "display_data"
    }
   ],
   "source": [
    "print('Number:', np.argmax(y_test[0]))\n",
    "\n",
    "fig = plt.figure(figsize=(12, 6))\n",
    "ax = fig.add_subplot(1, 2, 1)\n",
    "ax.set_title('Dimensionality Reduction (18*18), 99% of Explained Variance')\n",
    "ax.imshow(x_test_324[0])\n",
    "\n",
    "ax = fig.add_subplot(1, 2, 2)\n",
    "ax.set_title('Original Image (28*28)')\n",
    "ax.imshow(x_test[0])"
   ]
  },
  {
   "cell_type": "code",
   "execution_count": 100,
   "metadata": {},
   "outputs": [
    {
     "data": {
      "text/plain": [
       "{'Accuracy Model 1:': 0.8996}"
      ]
     },
     "execution_count": 100,
     "metadata": {},
     "output_type": "execute_result"
    }
   ],
   "source": [
    "dic = {}\n",
    "dic['Accuracy Model 1:'] = accuracy_score(np.argmax(y_test, axis=1), classes_y1)\n",
    "dic"
   ]
  },
  {
   "cell_type": "markdown",
   "metadata": {},
   "source": [
    "## Model 2"
   ]
  },
  {
   "cell_type": "markdown",
   "metadata": {},
   "source": [
    "Let's increase the depth of the Neural Network by adding 1 more fully conected layer."
   ]
  },
  {
   "cell_type": "code",
   "execution_count": 101,
   "metadata": {},
   "outputs": [
    {
     "name": "stdout",
     "output_type": "stream",
     "text": [
      "Model: \"sequential_4\"\n",
      "_________________________________________________________________\n",
      " Layer (type)                Output Shape              Param #   \n",
      "=================================================================\n",
      " conv2d_8 (Conv2D)           (None, 9, 9, 64)          1088      \n",
      "                                                                 \n",
      " activation_16 (Activation)  (None, 9, 9, 64)          0         \n",
      "                                                                 \n",
      " conv2d_9 (Conv2D)           (None, 3, 3, 64)          65600     \n",
      "                                                                 \n",
      " activation_17 (Activation)  (None, 3, 3, 64)          0         \n",
      "                                                                 \n",
      " flatten_4 (Flatten)         (None, 576)               0         \n",
      "                                                                 \n",
      " dense_13 (Dense)            (None, 288)               166176    \n",
      "                                                                 \n",
      " dense_14 (Dense)            (None, 324)               93636     \n",
      "                                                                 \n",
      " dense_15 (Dense)            (None, 324)               105300    \n",
      "                                                                 \n",
      " activation_18 (Activation)  (None, 324)               0         \n",
      "                                                                 \n",
      " dropout_4 (Dropout)         (None, 324)               0         \n",
      "                                                                 \n",
      " dense_16 (Dense)            (None, 10)                3250      \n",
      "                                                                 \n",
      " activation_19 (Activation)  (None, 10)                0         \n",
      "                                                                 \n",
      "=================================================================\n",
      "Total params: 435,050\n",
      "Trainable params: 435,050\n",
      "Non-trainable params: 0\n",
      "_________________________________________________________________\n"
     ]
    }
   ],
   "source": [
    "model_2 = Sequential()\n",
    "\n",
    "## 4*4 convolution with 2*2 stride and 32 filters\n",
    "model_2.add(Conv2D(64, (4, 4), strides = (2,2), padding='same', input_shape=x_train_324.shape[1:]))\n",
    "model_2.add(Activation('relu'))\n",
    "\n",
    "## 4*4 convolution with 2*2 stride and 32 filters\n",
    "model_2.add(Conv2D(64, (4, 4), strides = (2,2)))\n",
    "model_2.add(Activation('relu'))\n",
    "\n",
    "## 3 fully conected layers 288 to 342, 342 to 324 and 342 to 10\n",
    "model_2.add(Flatten())\n",
    "model_2.add(Dense(288))\n",
    "model_2.add(Dense(324))\n",
    "model_2.add(Dense(324))\n",
    "model_2.add(Activation('relu'))\n",
    "model_2.add(Dropout(0.5))\n",
    "model_2.add(Dense(num_classes))\n",
    "model_2.add(Activation('softmax'))\n",
    "\n",
    "model_2.summary()"
   ]
  },
  {
   "cell_type": "code",
   "execution_count": 102,
   "metadata": {},
   "outputs": [
    {
     "name": "stdout",
     "output_type": "stream",
     "text": [
      "Epoch 1/10\n"
     ]
    },
    {
     "name": "stderr",
     "output_type": "stream",
     "text": [
      "c:\\Users\\enzof\\Desktop\\ML_IBM\\5_Deep_Learning_and_Reinforcement_Learning\\env\\lib\\site-packages\\keras\\optimizers\\optimizer_v2\\adam.py:110: UserWarning: The `lr` argument is deprecated, use `learning_rate` instead.\n",
      "  super(Adam, self).__init__(name, **kwargs)\n"
     ]
    },
    {
     "name": "stdout",
     "output_type": "stream",
     "text": [
      "1875/1875 [==============================] - 16s 8ms/step - loss: 0.3648 - accuracy: 0.1648 - val_loss: 0.2719 - val_accuracy: 0.6826\n",
      "Epoch 2/10\n",
      "1875/1875 [==============================] - 15s 8ms/step - loss: 0.2043 - accuracy: 0.6288 - val_loss: 0.1243 - val_accuracy: 0.8421\n",
      "Epoch 3/10\n",
      "1875/1875 [==============================] - 16s 8ms/step - loss: 0.1291 - accuracy: 0.7896 - val_loss: 0.0893 - val_accuracy: 0.8800\n",
      "Epoch 4/10\n",
      "1875/1875 [==============================] - 15s 8ms/step - loss: 0.1030 - accuracy: 0.8407 - val_loss: 0.0735 - val_accuracy: 0.8971\n",
      "Epoch 5/10\n",
      "1875/1875 [==============================] - 16s 8ms/step - loss: 0.0876 - accuracy: 0.8688 - val_loss: 0.0633 - val_accuracy: 0.9105\n",
      "Epoch 6/10\n",
      "1875/1875 [==============================] - 15s 8ms/step - loss: 0.0769 - accuracy: 0.8869 - val_loss: 0.0565 - val_accuracy: 0.9157\n",
      "Epoch 7/10\n",
      "1875/1875 [==============================] - 15s 8ms/step - loss: 0.0690 - accuracy: 0.8971 - val_loss: 0.0516 - val_accuracy: 0.9209\n",
      "Epoch 8/10\n",
      "1875/1875 [==============================] - 15s 8ms/step - loss: 0.0636 - accuracy: 0.9054 - val_loss: 0.0480 - val_accuracy: 0.9249\n",
      "Epoch 9/10\n",
      "1875/1875 [==============================] - 15s 8ms/step - loss: 0.0585 - accuracy: 0.9130 - val_loss: 0.0449 - val_accuracy: 0.9281\n",
      "Epoch 10/10\n",
      "1875/1875 [==============================] - 15s 8ms/step - loss: 0.0549 - accuracy: 0.9182 - val_loss: 0.0424 - val_accuracy: 0.9323\n"
     ]
    }
   ],
   "source": [
    "batch_size = 32\n",
    "\n",
    "model_2.compile(loss='binary_crossentropy',\n",
    "                optimizer=Adam(lr=1e-5), \n",
    "                metrics=['accuracy'])\n",
    "                \n",
    "run_hist_2 = model_2.fit(x_train_324, y_train,\n",
    "                        batch_size=batch_size,\n",
    "                        epochs=10,\n",
    "                        validation_data=(x_test_324, y_test),\n",
    "                        shuffle=True)"
   ]
  },
  {
   "cell_type": "code",
   "execution_count": 103,
   "metadata": {},
   "outputs": [
    {
     "data": {
      "text/plain": [
       "Text(0.5, 1.0, 'Accuracy over iterations')"
      ]
     },
     "execution_count": 103,
     "metadata": {},
     "output_type": "execute_result"
    },
    {
     "data": {
      "image/png": "[encoded data removed]",
      "text/plain": [
       "<Figure size 864x432 with 2 Axes>"
      ]
     },
     "metadata": {
      "needs_background": "light"
     },
     "output_type": "display_data"
    }
   ],
   "source": [
    "n = len(run_hist_2.history[\"loss\"])\n",
    "\n",
    "fig = plt.figure(figsize=(12, 6))\n",
    "ax = fig.add_subplot(1, 2, 1)\n",
    "ax.plot(range(n), (run_hist_2.history[\"loss\"]),'r', marker='.', label=\"Train Loss\")\n",
    "ax.plot(range(n), (run_hist_2.history[\"val_loss\"]),'b', marker='.', label=\"Validation Loss\")\n",
    "ax.legend()\n",
    "ax.set_title('Loss over iterations')\n",
    "\n",
    "ax = fig.add_subplot(1, 2, 2)\n",
    "ax.plot(range(n), (run_hist_2.history[\"accuracy\"]),'r', marker='.', label=\"Train Acc\")\n",
    "ax.plot(range(n), (run_hist_2.history[\"val_accuracy\"]),'b', marker='.', label=\"Validation Acc\")\n",
    "ax.legend(loc='lower right')\n",
    "ax.set_title('Accuracy over iterations')"
   ]
  },
  {
   "cell_type": "code",
   "execution_count": 104,
   "metadata": {},
   "outputs": [
    {
     "name": "stdout",
     "output_type": "stream",
     "text": [
      "313/313 [==============================] - 1s 3ms/step\n",
      "[7 2 1 0 4 1 4 9 2 9 0 6 9 0 1 5 9 7 3 4 9 6 6 5 4 0 7 4 0 1]\n",
      "[7 2 1 0 4 1 4 9 5 9 0 6 9 0 1 5 9 7 3 4 9 6 6 5 4 0 7 4 0 1]\n"
     ]
    }
   ],
   "source": [
    "predict_y2 = model_2.predict(x_test_324)\n",
    "classes_y2 = np.argmax(predict_y2,axis=1)\n",
    "print(classes_y2[:30])\n",
    "print(np.argmax(y_test[:30], axis=1))"
   ]
  },
  {
   "cell_type": "code",
   "execution_count": 105,
   "metadata": {},
   "outputs": [
    {
     "name": "stdout",
     "output_type": "stream",
     "text": [
      "Number: 4\n"
     ]
    },
    {
     "data": {
      "text/plain": [
       "<matplotlib.image.AxesImage at 0x1689704ecb0>"
      ]
     },
     "execution_count": 105,
     "metadata": {},
     "output_type": "execute_result"
    },
    {
     "data": {
      "image/png": "[encoded data removed]",
      "text/plain": [
       "<Figure size 864x432 with 2 Axes>"
      ]
     },
     "metadata": {
      "needs_background": "light"
     },
     "output_type": "display_data"
    }
   ],
   "source": [
    "print('Number:', np.argmax(y_test[4]))\n",
    "\n",
    "fig = plt.figure(figsize=(12, 6))\n",
    "ax = fig.add_subplot(1, 2, 1)\n",
    "ax.set_title('Dimensionality Reduction (18*18), 99% of Explained Variance')\n",
    "ax.imshow(x_test_324[4])\n",
    "\n",
    "ax = fig.add_subplot(1, 2, 2)\n",
    "ax.set_title('Original Image (28*28)')\n",
    "ax.imshow(x_test[4])"
   ]
  },
  {
   "cell_type": "code",
   "execution_count": 106,
   "metadata": {},
   "outputs": [
    {
     "data": {
      "text/plain": [
       "{'Accuracy Model 1:': 0.8996, 'Accuracy Model 2:': 0.9323}"
      ]
     },
     "execution_count": 106,
     "metadata": {},
     "output_type": "execute_result"
    }
   ],
   "source": [
    "dic['Accuracy Model 2:'] = accuracy_score(np.argmax(y_test, axis=1), classes_y2)\n",
    "dic"
   ]
  },
  {
   "cell_type": "markdown",
   "metadata": {},
   "source": [
    "## Model 3\n"
   ]
  },
  {
   "cell_type": "markdown",
   "metadata": {},
   "source": [
    "Let's reshape x_test and x_train to the original format (28x28) for the data without th e dimensionality reduction."
   ]
  },
  {
   "cell_type": "code",
   "execution_count": 107,
   "metadata": {},
   "outputs": [
    {
     "data": {
      "text/plain": [
       "(60000, 28, 28, 1)"
      ]
     },
     "execution_count": 107,
     "metadata": {},
     "output_type": "execute_result"
    }
   ],
   "source": [
    "x_train_784 = [[] for x in range(len(x_train))]\n",
    "for i in range(len(x_train)):\n",
    "    x_train_784[i] = x_train[i].reshape((28,28,1))\n",
    "\n",
    "x_train_784 = np.array(x_train_784)\n",
    "x_train_784.shape"
   ]
  },
  {
   "cell_type": "code",
   "execution_count": 109,
   "metadata": {},
   "outputs": [
    {
     "data": {
      "text/plain": [
       "(10000, 28, 28, 1)"
      ]
     },
     "execution_count": 109,
     "metadata": {},
     "output_type": "execute_result"
    }
   ],
   "source": [
    "x_test_784 = [[] for x in range(len(x_test))]\n",
    "for i in range(len(x_test)):\n",
    "    x_test_784[i] = x_test[i].reshape((28,28,1))\n",
    "\n",
    "x_test_784 = np.array(x_test_784)\n",
    "x_test_784.shape"
   ]
  },
  {
   "cell_type": "markdown",
   "metadata": {},
   "source": [
    "Let's build the same CNN of the Model 1 and train it with the original data. "
   ]
  },
  {
   "cell_type": "code",
   "execution_count": 110,
   "metadata": {},
   "outputs": [
    {
     "name": "stdout",
     "output_type": "stream",
     "text": [
      "Model: \"sequential_5\"\n",
      "_________________________________________________________________\n",
      " Layer (type)                Output Shape              Param #   \n",
      "=================================================================\n",
      " conv2d_10 (Conv2D)          (None, 14, 14, 32)        544       \n",
      "                                                                 \n",
      " activation_20 (Activation)  (None, 14, 14, 32)        0         \n",
      "                                                                 \n",
      " conv2d_11 (Conv2D)          (None, 6, 6, 32)          16416     \n",
      "                                                                 \n",
      " activation_21 (Activation)  (None, 6, 6, 32)          0         \n",
      "                                                                 \n",
      " flatten_5 (Flatten)         (None, 1152)              0         \n",
      "                                                                 \n",
      " dense_17 (Dense)            (None, 288)               332064    \n",
      "                                                                 \n",
      " dense_18 (Dense)            (None, 324)               93636     \n",
      "                                                                 \n",
      " activation_22 (Activation)  (None, 324)               0         \n",
      "                                                                 \n",
      " dropout_5 (Dropout)         (None, 324)               0         \n",
      "                                                                 \n",
      " dense_19 (Dense)            (None, 10)                3250      \n",
      "                                                                 \n",
      " activation_23 (Activation)  (None, 10)                0         \n",
      "                                                                 \n",
      "=================================================================\n",
      "Total params: 445,910\n",
      "Trainable params: 445,910\n",
      "Non-trainable params: 0\n",
      "_________________________________________________________________\n"
     ]
    }
   ],
   "source": [
    "model_3 = Sequential()\n",
    "\n",
    "## 4*4 convolution with 2*2 stride and 32 filters\n",
    "model_3.add(Conv2D(32, (4, 4), strides = (2,2), padding='same', input_shape=x_train_784.shape[1:]))\n",
    "model_3.add(Activation('relu'))\n",
    "\n",
    "## 4*4 convolution with 2*2 stride and 32 filters\n",
    "model_3.add(Conv2D(32, (4, 4), strides = (2,2)))\n",
    "model_3.add(Activation('relu'))\n",
    "\n",
    "## 2 fully conected layers 288 to 342 and 342 to 10\n",
    "model_3.add(Flatten())\n",
    "model_3.add(Dense(288))\n",
    "model_3.add(Dense(324))\n",
    "model_3.add(Activation('relu'))\n",
    "model_3.add(Dropout(0.5))\n",
    "model_3.add(Dense(num_classes))\n",
    "model_3.add(Activation('softmax'))\n",
    "\n",
    "model_3.summary()"
   ]
  },
  {
   "cell_type": "code",
   "execution_count": 111,
   "metadata": {},
   "outputs": [
    {
     "name": "stdout",
     "output_type": "stream",
     "text": [
      "Epoch 1/10\n"
     ]
    },
    {
     "name": "stderr",
     "output_type": "stream",
     "text": [
      "c:\\Users\\enzof\\Desktop\\ML_IBM\\5_Deep_Learning_and_Reinforcement_Learning\\env\\lib\\site-packages\\keras\\optimizers\\optimizer_v2\\adam.py:110: UserWarning: The `lr` argument is deprecated, use `learning_rate` instead.\n",
      "  super(Adam, self).__init__(name, **kwargs)\n"
     ]
    },
    {
     "name": "stdout",
     "output_type": "stream",
     "text": [
      "1875/1875 [==============================] - 20s 10ms/step - loss: 0.7767 - accuracy: 0.4460 - val_loss: 0.1297 - val_accuracy: 0.8245\n",
      "Epoch 2/10\n",
      "1875/1875 [==============================] - 19s 10ms/step - loss: 0.2157 - accuracy: 0.7086 - val_loss: 0.0769 - val_accuracy: 0.8925\n",
      "Epoch 3/10\n",
      "1875/1875 [==============================] - 20s 11ms/step - loss: 0.1376 - accuracy: 0.8072 - val_loss: 0.0551 - val_accuracy: 0.9221\n",
      "Epoch 4/10\n",
      "1875/1875 [==============================] - 19s 10ms/step - loss: 0.0990 - accuracy: 0.8657 - val_loss: 0.0429 - val_accuracy: 0.9385\n",
      "Epoch 5/10\n",
      "1875/1875 [==============================] - 19s 10ms/step - loss: 0.0780 - accuracy: 0.8952 - val_loss: 0.0354 - val_accuracy: 0.9488\n",
      "Epoch 6/10\n",
      "1875/1875 [==============================] - 19s 10ms/step - loss: 0.0631 - accuracy: 0.9167 - val_loss: 0.0299 - val_accuracy: 0.9546\n",
      "Epoch 7/10\n",
      "1875/1875 [==============================] - 19s 10ms/step - loss: 0.0533 - accuracy: 0.9296 - val_loss: 0.0262 - val_accuracy: 0.9599\n",
      "Epoch 8/10\n",
      "1875/1875 [==============================] - 19s 10ms/step - loss: 0.0460 - accuracy: 0.9400 - val_loss: 0.0229 - val_accuracy: 0.9642\n",
      "Epoch 9/10\n",
      "1875/1875 [==============================] - 19s 10ms/step - loss: 0.0400 - accuracy: 0.9484 - val_loss: 0.0211 - val_accuracy: 0.9666\n",
      "Epoch 10/10\n",
      "1875/1875 [==============================] - 19s 10ms/step - loss: 0.0351 - accuracy: 0.9551 - val_loss: 0.0189 - val_accuracy: 0.9698\n"
     ]
    }
   ],
   "source": [
    "batch_size = 32\n",
    "\n",
    "model_3.compile(loss='binary_crossentropy',\n",
    "                optimizer=Adam(lr=1e-5), \n",
    "                metrics=['accuracy'])\n",
    "                \n",
    "run_hist_3 = model_3.fit(x_train_784, y_train,\n",
    "                        batch_size=batch_size,\n",
    "                        epochs=10,\n",
    "                        validation_data=(x_test_784, y_test),\n",
    "                        shuffle=True)"
   ]
  },
  {
   "cell_type": "code",
   "execution_count": 112,
   "metadata": {},
   "outputs": [
    {
     "data": {
      "text/plain": [
       "Text(0.5, 1.0, 'Accuracy over iterations')"
      ]
     },
     "execution_count": 112,
     "metadata": {},
     "output_type": "execute_result"
    },
    {
     "data": {
      "image/png": "[encoded data removed]",
      "text/plain": [
       "<Figure size 864x432 with 2 Axes>"
      ]
     },
     "metadata": {
      "needs_background": "light"
     },
     "output_type": "display_data"
    }
   ],
   "source": [
    "n = len(run_hist_3.history[\"loss\"])\n",
    "\n",
    "fig = plt.figure(figsize=(12, 6))\n",
    "ax = fig.add_subplot(1, 2, 1)\n",
    "ax.plot(range(n), (run_hist_3.history[\"loss\"]),'r', marker='.', label=\"Train Loss\")\n",
    "ax.plot(range(n), (run_hist_3.history[\"val_loss\"]),'b', marker='.', label=\"Validation Loss\")\n",
    "ax.legend()\n",
    "ax.set_title('Loss over iterations')\n",
    "\n",
    "ax = fig.add_subplot(1, 2, 2)\n",
    "ax.plot(range(n), (run_hist_3.history[\"accuracy\"]),'r', marker='.', label=\"Train Acc\")\n",
    "ax.plot(range(n), (run_hist_3.history[\"val_accuracy\"]),'b', marker='.', label=\"Validation Acc\")\n",
    "ax.legend(loc='lower right')\n",
    "ax.set_title('Accuracy over iterations')"
   ]
  },
  {
   "cell_type": "code",
   "execution_count": 113,
   "metadata": {},
   "outputs": [
    {
     "name": "stdout",
     "output_type": "stream",
     "text": [
      "313/313 [==============================] - 1s 3ms/step\n",
      "[7 2 1 0 4 1 4 9 5 9 0 6 9 0 1 5 9 7 3 4 9 6 6 5 4 0 7 4 0 1]\n",
      "[7 2 1 0 4 1 4 9 5 9 0 6 9 0 1 5 9 7 3 4 9 6 6 5 4 0 7 4 0 1]\n"
     ]
    }
   ],
   "source": [
    "predict_y3 = model_3.predict(x_test_784)\n",
    "classes_y3 = np.argmax(predict_y3, axis=1)\n",
    "print(classes_y3[:30])\n",
    "print(np.argmax(y_test[:30], axis=1))"
   ]
  },
  {
   "cell_type": "code",
   "execution_count": 116,
   "metadata": {},
   "outputs": [
    {
     "name": "stdout",
     "output_type": "stream",
     "text": [
      "Number: 2\n"
     ]
    },
    {
     "data": {
      "text/plain": [
       "<matplotlib.image.AxesImage at 0x168979718a0>"
      ]
     },
     "execution_count": 116,
     "metadata": {},
     "output_type": "execute_result"
    },
    {
     "data": {
      "image/png": "[encoded data removed]",
      "text/plain": [
       "<Figure size 864x432 with 1 Axes>"
      ]
     },
     "metadata": {
      "needs_background": "light"
     },
     "output_type": "display_data"
    }
   ],
   "source": [
    "print('Number:', np.argmax(y_test[1]))\n",
    "\n",
    "fig = plt.figure(figsize=(12, 6))\n",
    "plt.title('Original Image (28*28)')\n",
    "plt.imshow(x_test[1])"
   ]
  },
  {
   "cell_type": "code",
   "execution_count": 115,
   "metadata": {},
   "outputs": [
    {
     "data": {
      "text/plain": [
       "{'Accuracy Model 1:': 0.8996,\n",
       " 'Accuracy Model 2:': 0.9323,\n",
       " 'Accuracy Model 3:': 0.9698}"
      ]
     },
     "execution_count": 115,
     "metadata": {},
     "output_type": "execute_result"
    }
   ],
   "source": [
    "dic['Accuracy Model 3:'] = accuracy_score(np.argmax(y_test, axis=1), classes_y3)\n",
    "dic"
   ]
  },
  {
   "cell_type": "markdown",
   "metadata": {},
   "source": [
    "# Summary"
   ]
  },
  {
   "cell_type": "markdown",
   "metadata": {},
   "source": [
    "In summary, the following can be highlighted. \n",
    "\n",
    "All the classifications were made yielded excelent results in terms of Accuracy. Broadly speaking, an increase in accuracy is appreciable as new models are proposed.\n",
    "\n",
    "Results:\n",
    "\n",
    "| Model | #N Parameters | Execution Time | Accuracy |\n",
    "| --- | --- | --- | --- |\n",
    "| Model 1 | 197,078 | 1m 46,4s | 0.90 |\n",
    "| Model 2 | 435,050 | 2m 34,2s | 0.93 |\n",
    "| Model 3 | 445,910 | 3m 10,9s | 0.97 |\n",
    "\n",
    "As we can see all the models present strong results. So any of them can be recommended to optimize the accuracy, in particular the model with highest accuracy is the Model 3. Despite the fact that this model has the best accuracy, since it has been trained with the original data (without dimensionality reduction), it has the largest number of parameters and therefore, the longest execution time. On the other hand, in the models trained with the dimensionality reduction applied to the dataset, the accuracy does not increase significantly as the depth of the neural network increases. Therefore the increase of parameters and execution time are not justified for this case."
   ]
  }
 ],
 "metadata": {
  "kernelspec": {
   "display_name": "Python 3 (ipykernel)",
   "language": "python",
   "name": "python3"
  },
  "language_info": {
   "codemirror_mode": {
    "name": "ipython",
    "version": 3
   },
   "file_extension": ".py",
   "mimetype": "text/x-python",
   "name": "python",
   "nbconvert_exporter": "python",
   "pygments_lexer": "ipython3",
   "version": "3.9.12"
  },
  "vscode": {
   "interpreter": {
    "hash": "ed3bf6e3652e8e79d703c800018273c59a551b297e437a3617a0c753371fb076"
   }
  }
 },
 "nbformat": 4,
 "nbformat_minor": 2
}
